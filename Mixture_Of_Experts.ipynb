{
  "nbformat": 4,
  "nbformat_minor": 0,
  "metadata": {
    "colab": {
      "name": "Mixture Of Experts.ipynb",
      "provenance": [],
      "collapsed_sections": [
        "hJUc-Bj4jV1K"
      ]
    },
    "kernelspec": {
      "name": "python3",
      "display_name": "Python 3"
    },
    "widgets": {
      "application/vnd.jupyter.widget-state+json": {
        "ab29d72aae1d479db83adccd0134bc52": {
          "model_module": "@jupyter-widgets/controls",
          "model_name": "HBoxModel",
          "state": {
            "_view_name": "HBoxView",
            "_dom_classes": [],
            "_model_name": "HBoxModel",
            "_view_module": "@jupyter-widgets/controls",
            "_model_module_version": "1.5.0",
            "_view_count": null,
            "_view_module_version": "1.5.0",
            "box_style": "",
            "layout": "IPY_MODEL_1e1f85060a8e45169fc8b50acdbc5331",
            "_model_module": "@jupyter-widgets/controls",
            "children": [
              "IPY_MODEL_f3a4ba127f9342dd9e16dba88946fefc",
              "IPY_MODEL_344cb32f443c421d888ee8233a2059b9"
            ]
          }
        },
        "1e1f85060a8e45169fc8b50acdbc5331": {
          "model_module": "@jupyter-widgets/base",
          "model_name": "LayoutModel",
          "state": {
            "_view_name": "LayoutView",
            "grid_template_rows": null,
            "right": null,
            "justify_content": null,
            "_view_module": "@jupyter-widgets/base",
            "overflow": null,
            "_model_module_version": "1.2.0",
            "_view_count": null,
            "flex_flow": null,
            "width": null,
            "min_width": null,
            "border": null,
            "align_items": null,
            "bottom": null,
            "_model_module": "@jupyter-widgets/base",
            "top": null,
            "grid_column": null,
            "overflow_y": null,
            "overflow_x": null,
            "grid_auto_flow": null,
            "grid_area": null,
            "grid_template_columns": null,
            "flex": null,
            "_model_name": "LayoutModel",
            "justify_items": null,
            "grid_row": null,
            "max_height": null,
            "align_content": null,
            "visibility": null,
            "align_self": null,
            "height": null,
            "min_height": null,
            "padding": null,
            "grid_auto_rows": null,
            "grid_gap": null,
            "max_width": null,
            "order": null,
            "_view_module_version": "1.2.0",
            "grid_template_areas": null,
            "object_position": null,
            "object_fit": null,
            "grid_auto_columns": null,
            "margin": null,
            "display": null,
            "left": null
          }
        },
        "f3a4ba127f9342dd9e16dba88946fefc": {
          "model_module": "@jupyter-widgets/controls",
          "model_name": "FloatProgressModel",
          "state": {
            "_view_name": "ProgressView",
            "style": "IPY_MODEL_c7be61fdf7f8444bbb61e748e2ef3890",
            "_dom_classes": [],
            "description": "ELBO : -578.019:  37%",
            "_model_name": "FloatProgressModel",
            "bar_style": "danger",
            "max": 100,
            "_view_module": "@jupyter-widgets/controls",
            "_model_module_version": "1.5.0",
            "value": 37,
            "_view_count": null,
            "_view_module_version": "1.5.0",
            "orientation": "horizontal",
            "min": 0,
            "description_tooltip": null,
            "_model_module": "@jupyter-widgets/controls",
            "layout": "IPY_MODEL_46c3074ec7a642929ab57778813a41d9"
          }
        },
        "344cb32f443c421d888ee8233a2059b9": {
          "model_module": "@jupyter-widgets/controls",
          "model_name": "HTMLModel",
          "state": {
            "_view_name": "HTMLView",
            "style": "IPY_MODEL_6ca4856d50cc49d98a2f27ca4af9b64d",
            "_dom_classes": [],
            "description": "",
            "_model_name": "HTMLModel",
            "placeholder": "​",
            "_view_module": "@jupyter-widgets/controls",
            "_model_module_version": "1.5.0",
            "value": " 37/100 [01:26&lt;03:54,  3.72s/it]",
            "_view_count": null,
            "_view_module_version": "1.5.0",
            "description_tooltip": null,
            "_model_module": "@jupyter-widgets/controls",
            "layout": "IPY_MODEL_999b0896141344acbcf4d71f55c83b43"
          }
        },
        "c7be61fdf7f8444bbb61e748e2ef3890": {
          "model_module": "@jupyter-widgets/controls",
          "model_name": "ProgressStyleModel",
          "state": {
            "_view_name": "StyleView",
            "_model_name": "ProgressStyleModel",
            "description_width": "initial",
            "_view_module": "@jupyter-widgets/base",
            "_model_module_version": "1.5.0",
            "_view_count": null,
            "_view_module_version": "1.2.0",
            "bar_color": null,
            "_model_module": "@jupyter-widgets/controls"
          }
        },
        "46c3074ec7a642929ab57778813a41d9": {
          "model_module": "@jupyter-widgets/base",
          "model_name": "LayoutModel",
          "state": {
            "_view_name": "LayoutView",
            "grid_template_rows": null,
            "right": null,
            "justify_content": null,
            "_view_module": "@jupyter-widgets/base",
            "overflow": null,
            "_model_module_version": "1.2.0",
            "_view_count": null,
            "flex_flow": null,
            "width": null,
            "min_width": null,
            "border": null,
            "align_items": null,
            "bottom": null,
            "_model_module": "@jupyter-widgets/base",
            "top": null,
            "grid_column": null,
            "overflow_y": null,
            "overflow_x": null,
            "grid_auto_flow": null,
            "grid_area": null,
            "grid_template_columns": null,
            "flex": null,
            "_model_name": "LayoutModel",
            "justify_items": null,
            "grid_row": null,
            "max_height": null,
            "align_content": null,
            "visibility": null,
            "align_self": null,
            "height": null,
            "min_height": null,
            "padding": null,
            "grid_auto_rows": null,
            "grid_gap": null,
            "max_width": null,
            "order": null,
            "_view_module_version": "1.2.0",
            "grid_template_areas": null,
            "object_position": null,
            "object_fit": null,
            "grid_auto_columns": null,
            "margin": null,
            "display": null,
            "left": null
          }
        },
        "6ca4856d50cc49d98a2f27ca4af9b64d": {
          "model_module": "@jupyter-widgets/controls",
          "model_name": "DescriptionStyleModel",
          "state": {
            "_view_name": "StyleView",
            "_model_name": "DescriptionStyleModel",
            "description_width": "",
            "_view_module": "@jupyter-widgets/base",
            "_model_module_version": "1.5.0",
            "_view_count": null,
            "_view_module_version": "1.2.0",
            "_model_module": "@jupyter-widgets/controls"
          }
        },
        "999b0896141344acbcf4d71f55c83b43": {
          "model_module": "@jupyter-widgets/base",
          "model_name": "LayoutModel",
          "state": {
            "_view_name": "LayoutView",
            "grid_template_rows": null,
            "right": null,
            "justify_content": null,
            "_view_module": "@jupyter-widgets/base",
            "overflow": null,
            "_model_module_version": "1.2.0",
            "_view_count": null,
            "flex_flow": null,
            "width": null,
            "min_width": null,
            "border": null,
            "align_items": null,
            "bottom": null,
            "_model_module": "@jupyter-widgets/base",
            "top": null,
            "grid_column": null,
            "overflow_y": null,
            "overflow_x": null,
            "grid_auto_flow": null,
            "grid_area": null,
            "grid_template_columns": null,
            "flex": null,
            "_model_name": "LayoutModel",
            "justify_items": null,
            "grid_row": null,
            "max_height": null,
            "align_content": null,
            "visibility": null,
            "align_self": null,
            "height": null,
            "min_height": null,
            "padding": null,
            "grid_auto_rows": null,
            "grid_gap": null,
            "max_width": null,
            "order": null,
            "_view_module_version": "1.2.0",
            "grid_template_areas": null,
            "object_position": null,
            "object_fit": null,
            "grid_auto_columns": null,
            "margin": null,
            "display": null,
            "left": null
          }
        }
      }
    }
  },
  "cells": [
    {
      "cell_type": "markdown",
      "metadata": {
        "id": "Q3oFSnYmLZRB"
      },
      "source": [
        "# Mixture of Experts\n",
        "Implementation of Mixture of Experts for Regression  \n",
        "Amirabbas Asadi"
      ]
    },
    {
      "cell_type": "code",
      "metadata": {
        "id": "KL_gNUwtLJ_J"
      },
      "source": [
        "import numpy as np\n",
        "import matplotlib.pyplot as plt\n",
        "plt.style.use('seaborn-whitegrid')"
      ],
      "execution_count": 1,
      "outputs": []
    },
    {
      "cell_type": "markdown",
      "metadata": {
        "id": "Uv7UaikCL1Zm"
      },
      "source": [
        "## Generating Sample Data"
      ]
    },
    {
      "cell_type": "markdown",
      "metadata": {
        "id": "FxBIyIF6lSQB"
      },
      "source": [
        "First we generate a simple regression dataset"
      ]
    },
    {
      "cell_type": "code",
      "metadata": {
        "id": "jXUJTB_mLQs-"
      },
      "source": [
        "from sklearn.preprocessing import StandardScaler\n",
        "coeffs = np.array([[0.75, 2.0], [6.0, 5.0], [-2.0, -3.0]])\n",
        "n = 100\n",
        "dim = 1\n",
        "x = np.linspace(-2, 2, n)\n",
        "X = np.array([[x+4*i] for i in range(len(coeffs))]).reshape(-1, dim)\n",
        "y = np.array([a*x+b+np.random.normal(size=n) for a,b in coeffs]).reshape(-1)\n",
        "scaler = StandardScaler()\n",
        "X = scaler.fit_transform(X)\n",
        "X = np.hstack((np.ones(len(X)).reshape(-1, 1), X))"
      ],
      "execution_count": 2,
      "outputs": []
    },
    {
      "cell_type": "code",
      "metadata": {
        "colab": {
          "base_uri": "https://localhost:8080/",
          "height": 262
        },
        "id": "WzEjlSYPMkw9",
        "outputId": "efa8648f-b6b6-44a4-8e01-c67dc29654e6"
      },
      "source": [
        "_ = plt.scatter(X[:, 1:].reshape(-1), y)"
      ],
      "execution_count": 3,
      "outputs": [
        {
          "output_type": "display_data",
          "data": {
            "image/png": "[encoded data removed]",
            "text/plain": [
              "<Figure size 432x288 with 1 Axes>"
            ]
          },
          "metadata": {
            "tags": [],
            "needs_background": "light"
          }
        }
      ]
    },
    {
      "cell_type": "markdown",
      "metadata": {
        "id": "hJUc-Bj4jV1K"
      },
      "source": [
        "## Model Specifications\n",
        "A mixture of experts is a latent variable model that for regression task can be defined as follows:  \n",
        "\n",
        "$$p(y_i|x_i, z_i=k, \\theta) = \\mathcal{N}(y_i|w^T_kx_i, \\sigma_k^2)$$\n",
        "\n",
        "$$p(z_i|x_i) = Cat(z_i|\\mathcal{S}(V^Tx_i))$$\n",
        "\n",
        "See the reference [1] for more details."
      ]
    },
    {
      "cell_type": "markdown",
      "metadata": {
        "id": "MS3wa06YO_Nn"
      },
      "source": [
        "## Initialize Parameters"
      ]
    },
    {
      "cell_type": "markdown",
      "metadata": {
        "id": "hOVZI2kAlfGV"
      },
      "source": [
        "Weights, Gating parameters and latent variables are initialized randomly"
      ]
    },
    {
      "cell_type": "code",
      "metadata": {
        "id": "SmlZwgg6NkcD"
      },
      "source": [
        "from sklearn.preprocessing import normalize\n",
        "\n",
        "def softmax(x):\n",
        "   ex = np.exp(x)\n",
        "   return ex/ex.sum(axis=1).reshape((-1, 1))\n",
        "\n",
        "# number of expert models\n",
        "experts = 3\n",
        "N = len(X)\n",
        "reg_dim = dim + 1\n",
        "# initial random weights\n",
        "W = np.random.normal(size=(experts, reg_dim))\n",
        "# initial random gates\n",
        "V = np.random.normal(size=(dim, experts))\n",
        "sigma = np.ones(experts)\n",
        "pi = np.random.uniform(size=(N, experts))\n",
        "pi = normalize(pi, norm='l1', axis=1)\n",
        "r = np.ones_like(pi)"
      ],
      "execution_count": 4,
      "outputs": []
    },
    {
      "cell_type": "markdown",
      "metadata": {
        "id": "qHtWrT0omFhz"
      },
      "source": [
        "## Expectation Maximization"
      ]
    },
    {
      "cell_type": "markdown",
      "metadata": {
        "id": "jYugvgaomLHs"
      },
      "source": [
        "Since this is a latent variable model we can use Expectation Maximization algorithm to estimate the parameters."
      ]
    },
    {
      "cell_type": "markdown",
      "metadata": {
        "id": "DROuWtkeTht-"
      },
      "source": [
        "### E Step"
      ]
    },
    {
      "cell_type": "markdown",
      "metadata": {
        "id": "vAp0vSSfmk-4"
      },
      "source": [
        "In E step we estimate the latent variables given the parameters.  \n",
        "\n",
        "$$ r_{ik} \\propto \\pi^{old}_{ik} \\mathcal{N}(y_i|x_i^Tw_k^{old}, (\\sigma_k^{old})^2) $$\n"
      ]
    },
    {
      "cell_type": "code",
      "metadata": {
        "id": "sXfvaY8fQRUg"
      },
      "source": [
        "from scipy.stats import norm\n",
        "\n",
        "def mix_experts_e_step():\n",
        "  global r\n",
        "\n",
        "  for i, item in enumerate(X):\n",
        "    for k in range(experts):\n",
        "      r[i, k] = pi[i, k] * norm.pdf(y[i], loc=np.dot(W[k].T, X[i]), scale=sigma[k])\n",
        "\n",
        "  r = normalize(r, norm='l1', axis=1)"
      ],
      "execution_count": 5,
      "outputs": []
    },
    {
      "cell_type": "markdown",
      "metadata": {
        "id": "X_W7cA3Tqkrz"
      },
      "source": [
        "### M Step"
      ]
    },
    {
      "cell_type": "markdown",
      "metadata": {
        "id": "6y-FnnGJmvHi"
      },
      "source": [
        "In M step we optimize the parameters given the latent variables obtained in E step.  \n",
        "The $W$ can be estimated by solving a weighted least squares problem:  \n",
        "$$ w_k = (X^TR_kX)^{-1}X^TR_kXy $$ \n",
        "Where $R_k = diag(r_{:,k})$. The variance is updated as follows:  \n",
        "\n",
        "$$ \\sigma^2 = \\frac{\\sum_{i=1}^Nr_{ik}(y_i - w_k^Tx_i)^2}{\\sum_{i=1}^Nr_{ik}} $$\n",
        "\n",
        "The loss function for updating $V$ is:  \n",
        "\n",
        "$$ \\mathcal{l}(V) = \\sum_i\\sum_kr_{ik} \\log{\\mathcal{S}(V^Tx_i)_k} $$\n",
        "\n",
        "Hence to update the $V$ we should train a logistic regression with soft targets $r$."
      ]
    },
    {
      "cell_type": "markdown",
      "metadata": {
        "id": "x19QWj3JiMaJ"
      },
      "source": [
        "#### Soft Target Logistic Regression\n",
        "To update $V$ Matrix in M-Step we need a Logistic Regression model supporting soft labels. "
      ]
    },
    {
      "cell_type": "code",
      "metadata": {
        "id": "O-I8eM3wiKMF"
      },
      "source": [
        "import jax.numpy as jnp\n",
        "from jax import grad, jit\n",
        "\n",
        "class SoftLogisticRegression():\n",
        "  def loss(self, W):\n",
        "    pred = jnp.dot(self.D, W)\n",
        "    pred = jnp.exp(pred)\n",
        "    pred /= pred.sum(axis=1).reshape(-1, 1)\n",
        "    pred = jnp.log(pred)\n",
        "    pred *= self.Y\n",
        "    return -pred.sum()\n",
        "  def fit(self, X, y):\n",
        "      targets = y.shape[1]\n",
        "      dim = X.shape[1]\n",
        "      g = jit(grad(jit(self.loss)))\n",
        "      # initilalize parameters\n",
        "      Wj = jnp.asarray(np.random.uniform(size=(dim, targets)))\n",
        "      self.Y = jnp.asarray(y)\n",
        "      self.D = jnp.asarray(X)\n",
        "      self.W = None\n",
        "      max_iters = 2000\n",
        "      lr = 1e-3\n",
        "      eps = 1e-4\n",
        "      for i in range(max_iters):\n",
        "        dir = -g(Wj)\n",
        "        Wj += lr * dir\n",
        "        # stop at convergence\n",
        "        if(jnp.linalg.norm(dir) < eps):\n",
        "          break\n",
        "      self.W = np.array(Wj)"
      ],
      "execution_count": 6,
      "outputs": []
    },
    {
      "cell_type": "markdown",
      "metadata": {
        "id": "j88XmuUJnEkY"
      },
      "source": [
        "### Maximizing the lower bound of log-likelihood"
      ]
    },
    {
      "cell_type": "code",
      "metadata": {
        "id": "jycKEd8epeZw"
      },
      "source": [
        "from sklearn.linear_model import LinearRegression\n",
        "\n",
        "softlr = SoftLogisticRegression()\n",
        "lr = LinearRegression(fit_intercept=False)\n",
        "\n",
        "def mix_experts_m_step():\n",
        "  global W, V, pi, lr\n",
        "  # update weights\n",
        "  for k in range(experts):\n",
        "    lr.fit(X, y, sample_weight=r[:, k])\n",
        "    W[k] = lr.coef_\n",
        "\n",
        "  # update sigma\n",
        "  for k in range(experts):\n",
        "    sigma[k] = 0\n",
        "    for i, item in enumerate(X):\n",
        "      sigma[k] += r[i, k] * (y[i] - np.dot(W[k].T, X[i]))**2\n",
        "    sigma[k] /= r[:, k].sum()\n",
        "    sigma[k] = np.sqrt(sigma[k])\n",
        "\n",
        "   \n",
        "  # update gating parameters\n",
        "  softlr.fit(X[:, 1:], r)\n",
        "  V = softlr.W\n",
        "  pi = softmax(np.dot(X[:, 1:], V))"
      ],
      "execution_count": 7,
      "outputs": []
    },
    {
      "cell_type": "markdown",
      "metadata": {
        "id": "lIq-yHw2nTZD"
      },
      "source": [
        "### Estimated log-likelihood"
      ]
    },
    {
      "cell_type": "code",
      "metadata": {
        "colab": {
          "base_uri": "https://localhost:8080/"
        },
        "id": "WvUfS9zwrv65",
        "outputId": "8c3f9e2a-f3c0-410e-d509-9680483de908"
      },
      "source": [
        "# Estimating Log-likelihood\n",
        "def elbo():\n",
        "  ll = 0\n",
        "  for i, item in enumerate(X):\n",
        "    for k in range(experts):\n",
        "      ll += r[i, k] * np.log(1e-10 + pi[i, k] * norm.pdf(y[i],\n",
        "                                                 loc=np.dot(W[k].T, X[i]),\n",
        "                                                 scale=sigma[k]))    \n",
        "  return ll\n",
        "print(\"Estimating Log-likelihood : \", elbo())"
      ],
      "execution_count": 8,
      "outputs": [
        {
          "output_type": "stream",
          "text": [
            "Estimating Log-likelihood :  -8480.696818388575\n"
          ],
          "name": "stdout"
        }
      ]
    },
    {
      "cell_type": "markdown",
      "metadata": {
        "id": "qOQNxa_1iUbB"
      },
      "source": [
        "## Training"
      ]
    },
    {
      "cell_type": "code",
      "metadata": {
        "colab": {
          "base_uri": "https://localhost:8080/",
          "height": 67,
          "referenced_widgets": [
            "ab29d72aae1d479db83adccd0134bc52",
            "1e1f85060a8e45169fc8b50acdbc5331",
            "f3a4ba127f9342dd9e16dba88946fefc",
            "344cb32f443c421d888ee8233a2059b9",
            "c7be61fdf7f8444bbb61e748e2ef3890",
            "46c3074ec7a642929ab57778813a41d9",
            "6ca4856d50cc49d98a2f27ca4af9b64d",
            "999b0896141344acbcf4d71f55c83b43"
          ]
        },
        "id": "M33t1B84yG8f",
        "outputId": "150defd0-461c-43e8-895a-cdcc2f6064a4"
      },
      "source": [
        "from tqdm.notebook import tqdm\n",
        "\n",
        "max_iters = 100\n",
        "eps = 0.1\n",
        "pbar = tqdm(range(max_iters))\n",
        "ll = [elbo()]\n",
        "for i in pbar:\n",
        "  pbar.set_description('ELBO : {:.3f}'.format(ll[-1]))\n",
        "  mix_experts_e_step()\n",
        "  mix_experts_m_step()\n",
        "  ll.append(elbo())\n",
        "  pbar.set_description('ELBO : {:.3f}'.format(ll[-1]))\n",
        "  # check for convergence\n",
        "  if(np.abs(ll[-1] - ll[-2]) < eps):\n",
        "    break\n",
        "  pbar.update(1)"
      ],
      "execution_count": 9,
      "outputs": [
        {
          "output_type": "display_data",
          "data": {
            "application/vnd.jupyter.widget-view+json": {
              "model_id": "ab29d72aae1d479db83adccd0134bc52",
              "version_minor": 0,
              "version_major": 2
            },
            "text/plain": [
              "HBox(children=(FloatProgress(value=0.0), HTML(value='')))"
            ]
          },
          "metadata": {
            "tags": []
          }
        },
        {
          "output_type": "stream",
          "text": [
            "WARNING:absl:No GPU/TPU found, falling back to CPU. (Set TF_CPP_MIN_LOG_LEVEL=0 and rerun for more info.)\n"
          ],
          "name": "stderr"
        }
      ]
    },
    {
      "cell_type": "markdown",
      "metadata": {
        "id": "sU-EsCiXiXQn"
      },
      "source": [
        "## Visualization"
      ]
    },
    {
      "cell_type": "code",
      "metadata": {
        "colab": {
          "base_uri": "https://localhost:8080/",
          "height": 718
        },
        "id": "LbN6r-jH3p6p",
        "outputId": "e1aad351-de52-4c54-c9ec-f816505d308a"
      },
      "source": [
        "fig = plt.figure(figsize=(8,16))\n",
        "ax1 = fig.add_subplot(211)\n",
        "c = np.eye(3)\n",
        "ax1.scatter(X[:, 1:].reshape(-1), y, c=r, s=40)\n",
        "\n",
        "for k in range(experts):\n",
        "  _ = ax1.plot(X[:, 1], np.dot(X, W[k]),\n",
        "              c=c[k], label=\"Expert {}\".format(k+1), ls='dashed', lw=2)\n",
        "  _ = ax1.legend(prop={'size': 10})\n",
        "\n",
        "ax1.set_title('Mixture of Experts')\n",
        "ax2 = fig.add_subplot(413)\n",
        "ax2.plot(ll)\n",
        "ax2.set_title('Estimated Log-Likelihood')\n",
        "ax2.set_xlabel('Iteration', fontsize=12)\n",
        "plt.show()"
      ],
      "execution_count": 10,
      "outputs": [
        {
          "output_type": "display_data",
          "data": {
            "image/png": "[encoded data removed]",
            "text/plain": [
              "<Figure size 576x1152 with 2 Axes>"
            ]
          },
          "metadata": {
            "tags": [],
            "needs_background": "light"
          }
        }
      ]
    },
    {
      "cell_type": "markdown",
      "metadata": {
        "id": "sPG9WOeisuQO"
      },
      "source": [
        "## References\n",
        "- [1] Machine Learning a Probabilistic Perspective, Kevin P. Murphy, The MIT Press 2012, Chapter 11, Sections 11.2.4 and 11.4.3\n",
        "- [2] Hierarchical Mixtures of Experts and the EM algorithm, Micheal I. Jordan, Robert A. Jacobs, Proceedings of 1993 International  Joint Conference on Neural Networks "
      ]
    }
  ]
}